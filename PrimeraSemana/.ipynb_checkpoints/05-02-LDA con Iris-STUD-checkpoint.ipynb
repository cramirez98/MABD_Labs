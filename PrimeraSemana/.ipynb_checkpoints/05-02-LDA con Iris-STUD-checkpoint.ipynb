{
 "cells": [
  {
   "cell_type": "markdown",
   "metadata": {},
   "source": [
    "# LDA con Iris"
   ]
  },
  {
   "cell_type": "markdown",
   "metadata": {},
   "source": [
    "Utilizando el dataset **IRIS**, vamos a ilustrar la aplicación del modelo LDA como modelo de clasificación y como técnica de reducción de dimensionalidad supervisada. \n",
    "\n",
    "En efecto, LDA permite encontrar un nuevo espacio de representación donde los ejes producidos van a ser combinaciones lineales de los ejes originales (al igual que con **PCA**), pero van a estar ordenados con respecto a la mayor **separabilidad** de las clases (al contrario de PCA, donde lo importante es la EXPLICACIÓN de varianza de cada eje encontrado).\n"
   ]
  },
  {
   "cell_type": "markdown",
   "metadata": {},
   "source": [
    "## Entendimiento de los datos"
   ]
  },
  {
   "cell_type": "markdown",
   "metadata": {},
   "source": [
    "Cargamos las librerías"
   ]
  },
  {
   "cell_type": "code",
   "execution_count": 1,
   "metadata": {},
   "outputs": [],
   "source": [
    "import numpy as np\n",
    "import pandas as pd\n",
    "import matplotlib.pyplot as plt\n",
    "import seaborn as sns"
   ]
  },
  {
   "cell_type": "markdown",
   "metadata": {},
   "source": [
    "Leemos el archivo con el dataset, cargándolo en memoria"
   ]
  },
  {
   "cell_type": "code",
   "execution_count": 2,
   "metadata": {},
   "outputs": [
    {
     "name": "stdout",
     "output_type": "stream",
     "text": [
      "(150, 5)\n"
     ]
    },
    {
     "data": {
      "text/html": [
       "<div>\n",
       "<style scoped>\n",
       "    .dataframe tbody tr th:only-of-type {\n",
       "        vertical-align: middle;\n",
       "    }\n",
       "\n",
       "    .dataframe tbody tr th {\n",
       "        vertical-align: top;\n",
       "    }\n",
       "\n",
       "    .dataframe thead th {\n",
       "        text-align: right;\n",
       "    }\n",
       "</style>\n",
       "<table border=\"1\" class=\"dataframe\">\n",
       "  <thead>\n",
       "    <tr style=\"text-align: right;\">\n",
       "      <th></th>\n",
       "      <th>sepal.length</th>\n",
       "      <th>sepal.width</th>\n",
       "      <th>petal.length</th>\n",
       "      <th>petal.width</th>\n",
       "      <th>variety</th>\n",
       "    </tr>\n",
       "  </thead>\n",
       "  <tbody>\n",
       "    <tr>\n",
       "      <th>0</th>\n",
       "      <td>5.1</td>\n",
       "      <td>3.5</td>\n",
       "      <td>1.4</td>\n",
       "      <td>0.2</td>\n",
       "      <td>Setosa</td>\n",
       "    </tr>\n",
       "    <tr>\n",
       "      <th>1</th>\n",
       "      <td>4.9</td>\n",
       "      <td>3.0</td>\n",
       "      <td>1.4</td>\n",
       "      <td>0.2</td>\n",
       "      <td>Setosa</td>\n",
       "    </tr>\n",
       "    <tr>\n",
       "      <th>2</th>\n",
       "      <td>4.7</td>\n",
       "      <td>3.2</td>\n",
       "      <td>1.3</td>\n",
       "      <td>0.2</td>\n",
       "      <td>Setosa</td>\n",
       "    </tr>\n",
       "    <tr>\n",
       "      <th>3</th>\n",
       "      <td>4.6</td>\n",
       "      <td>3.1</td>\n",
       "      <td>1.5</td>\n",
       "      <td>0.2</td>\n",
       "      <td>Setosa</td>\n",
       "    </tr>\n",
       "    <tr>\n",
       "      <th>4</th>\n",
       "      <td>5.0</td>\n",
       "      <td>3.6</td>\n",
       "      <td>1.4</td>\n",
       "      <td>0.2</td>\n",
       "      <td>Setosa</td>\n",
       "    </tr>\n",
       "  </tbody>\n",
       "</table>\n",
       "</div>"
      ],
      "text/plain": [
       "   sepal.length  sepal.width  petal.length  petal.width variety\n",
       "0           5.1          3.5           1.4          0.2  Setosa\n",
       "1           4.9          3.0           1.4          0.2  Setosa\n",
       "2           4.7          3.2           1.3          0.2  Setosa\n",
       "3           4.6          3.1           1.5          0.2  Setosa\n",
       "4           5.0          3.6           1.4          0.2  Setosa"
      ]
     },
     "execution_count": 2,
     "metadata": {},
     "output_type": "execute_result"
    }
   ],
   "source": [
    "df = pd.read_csv('05-02-iris.csv', sep=';')\n",
    "print(df.shape)\n",
    "df.head(5)"
   ]
  },
  {
   "cell_type": "markdown",
   "metadata": {},
   "source": [
    "Hagamos un gráfico de barras que cuente los valores de la variable categórica objetivo \"variety\"."
   ]
  },
  {
   "cell_type": "code",
   "execution_count": 3,
   "metadata": {},
   "outputs": [
    {
     "data": {
      "text/plain": [
       "<matplotlib.axes._subplots.AxesSubplot at 0x1a0b005fdc8>"
      ]
     },
     "execution_count": 3,
     "metadata": {},
     "output_type": "execute_result"
    },
    {
     "data": {
      "image/png": "[encoded data removed]",
      "text/plain": [
       "<Figure size 432x288 with 1 Axes>"
      ]
     },
     "metadata": {
      "needs_background": "light"
     },
     "output_type": "display_data"
    }
   ],
   "source": [
    "sns.countplot(x=\"variety\", data=df) "
   ]
  },
  {
   "cell_type": "markdown",
   "metadata": {},
   "source": [
    "Esta variable devuelve un objeto gráfico, que no nos interesa, por lo que lo asignamos a \"_\" para no obtener mensajes de Python con posiciones de memoria del objeto en cuestión (no es mas que un maquillaje de la salida del notebook).\n"
   ]
  },
  {
   "cell_type": "code",
   "execution_count": 4,
   "metadata": {},
   "outputs": [
    {
     "data": {
      "image/png": "[encoded data removed]",
      "text/plain": [
       "<Figure size 432x288 with 1 Axes>"
      ]
     },
     "metadata": {
      "needs_background": "light"
     },
     "output_type": "display_data"
    }
   ],
   "source": [
    "_ = sns.countplot(x=\"variety\", data=df) "
   ]
  },
  {
   "cell_type": "markdown",
   "metadata": {},
   "source": [
    "Tenemos 150 instancias, 3 categorías con 50 instancias cada una, y 4 variables numéricas. "
   ]
  },
  {
   "cell_type": "code",
   "execution_count": 5,
   "metadata": {},
   "outputs": [],
   "source": [
    "# Definimos el número de variables \n",
    "n=4"
   ]
  },
  {
   "cell_type": "markdown",
   "metadata": {},
   "source": [
    "Usamos la función *describe* de pandas para obtener un resumen del dataframe (análoga al *summary* de R)"
   ]
  },
  {
   "cell_type": "code",
   "execution_count": 6,
   "metadata": {},
   "outputs": [
    {
     "data": {
      "text/html": [
       "<div>\n",
       "<style scoped>\n",
       "    .dataframe tbody tr th:only-of-type {\n",
       "        vertical-align: middle;\n",
       "    }\n",
       "\n",
       "    .dataframe tbody tr th {\n",
       "        vertical-align: top;\n",
       "    }\n",
       "\n",
       "    .dataframe thead th {\n",
       "        text-align: right;\n",
       "    }\n",
       "</style>\n",
       "<table border=\"1\" class=\"dataframe\">\n",
       "  <thead>\n",
       "    <tr style=\"text-align: right;\">\n",
       "      <th></th>\n",
       "      <th>sepal.length</th>\n",
       "      <th>sepal.width</th>\n",
       "      <th>petal.length</th>\n",
       "      <th>petal.width</th>\n",
       "      <th>variety</th>\n",
       "    </tr>\n",
       "  </thead>\n",
       "  <tbody>\n",
       "    <tr>\n",
       "      <th>count</th>\n",
       "      <td>150.000000</td>\n",
       "      <td>150.000000</td>\n",
       "      <td>150.000000</td>\n",
       "      <td>150.000000</td>\n",
       "      <td>150</td>\n",
       "    </tr>\n",
       "    <tr>\n",
       "      <th>unique</th>\n",
       "      <td>NaN</td>\n",
       "      <td>NaN</td>\n",
       "      <td>NaN</td>\n",
       "      <td>NaN</td>\n",
       "      <td>3</td>\n",
       "    </tr>\n",
       "    <tr>\n",
       "      <th>top</th>\n",
       "      <td>NaN</td>\n",
       "      <td>NaN</td>\n",
       "      <td>NaN</td>\n",
       "      <td>NaN</td>\n",
       "      <td>Virginica</td>\n",
       "    </tr>\n",
       "    <tr>\n",
       "      <th>freq</th>\n",
       "      <td>NaN</td>\n",
       "      <td>NaN</td>\n",
       "      <td>NaN</td>\n",
       "      <td>NaN</td>\n",
       "      <td>50</td>\n",
       "    </tr>\n",
       "    <tr>\n",
       "      <th>mean</th>\n",
       "      <td>5.843333</td>\n",
       "      <td>3.057333</td>\n",
       "      <td>3.758000</td>\n",
       "      <td>1.199333</td>\n",
       "      <td>NaN</td>\n",
       "    </tr>\n",
       "    <tr>\n",
       "      <th>std</th>\n",
       "      <td>0.828066</td>\n",
       "      <td>0.435866</td>\n",
       "      <td>1.765298</td>\n",
       "      <td>0.762238</td>\n",
       "      <td>NaN</td>\n",
       "    </tr>\n",
       "    <tr>\n",
       "      <th>min</th>\n",
       "      <td>4.300000</td>\n",
       "      <td>2.000000</td>\n",
       "      <td>1.000000</td>\n",
       "      <td>0.100000</td>\n",
       "      <td>NaN</td>\n",
       "    </tr>\n",
       "    <tr>\n",
       "      <th>25%</th>\n",
       "      <td>5.100000</td>\n",
       "      <td>2.800000</td>\n",
       "      <td>1.600000</td>\n",
       "      <td>0.300000</td>\n",
       "      <td>NaN</td>\n",
       "    </tr>\n",
       "    <tr>\n",
       "      <th>50%</th>\n",
       "      <td>5.800000</td>\n",
       "      <td>3.000000</td>\n",
       "      <td>4.350000</td>\n",
       "      <td>1.300000</td>\n",
       "      <td>NaN</td>\n",
       "    </tr>\n",
       "    <tr>\n",
       "      <th>75%</th>\n",
       "      <td>6.400000</td>\n",
       "      <td>3.300000</td>\n",
       "      <td>5.100000</td>\n",
       "      <td>1.800000</td>\n",
       "      <td>NaN</td>\n",
       "    </tr>\n",
       "    <tr>\n",
       "      <th>max</th>\n",
       "      <td>7.900000</td>\n",
       "      <td>4.400000</td>\n",
       "      <td>6.900000</td>\n",
       "      <td>2.500000</td>\n",
       "      <td>NaN</td>\n",
       "    </tr>\n",
       "  </tbody>\n",
       "</table>\n",
       "</div>"
      ],
      "text/plain": [
       "        sepal.length  sepal.width  petal.length  petal.width    variety\n",
       "count     150.000000   150.000000    150.000000   150.000000        150\n",
       "unique           NaN          NaN           NaN          NaN          3\n",
       "top              NaN          NaN           NaN          NaN  Virginica\n",
       "freq             NaN          NaN           NaN          NaN         50\n",
       "mean        5.843333     3.057333      3.758000     1.199333        NaN\n",
       "std         0.828066     0.435866      1.765298     0.762238        NaN\n",
       "min         4.300000     2.000000      1.000000     0.100000        NaN\n",
       "25%         5.100000     2.800000      1.600000     0.300000        NaN\n",
       "50%         5.800000     3.000000      4.350000     1.300000        NaN\n",
       "75%         6.400000     3.300000      5.100000     1.800000        NaN\n",
       "max         7.900000     4.400000      6.900000     2.500000        NaN"
      ]
     },
     "execution_count": 6,
     "metadata": {},
     "output_type": "execute_result"
    }
   ],
   "source": [
    "df.describe(include=\"all\")"
   ]
  },
  {
   "cell_type": "markdown",
   "metadata": {},
   "source": [
    "Podemos describir cada una de las columnas, que son en sí arrays independientes:"
   ]
  },
  {
   "cell_type": "code",
   "execution_count": 7,
   "metadata": {},
   "outputs": [
    {
     "data": {
      "text/plain": [
       "count           150\n",
       "unique            3\n",
       "top       Virginica\n",
       "freq             50\n",
       "Name: variety, dtype: object"
      ]
     },
     "execution_count": 7,
     "metadata": {},
     "output_type": "execute_result"
    }
   ],
   "source": [
    "df.variety.describe()"
   ]
  },
  {
   "cell_type": "markdown",
   "metadata": {},
   "source": [
    "Podemos calcular el accuracy del modelo de clasificación baseline. Como cada clase aparece 50 veces, el accuracy del baseline es de 33.3%."
   ]
  },
  {
   "cell_type": "code",
   "execution_count": 8,
   "metadata": {},
   "outputs": [
    {
     "data": {
      "text/plain": [
       "0.3333333333333333"
      ]
     },
     "execution_count": 8,
     "metadata": {},
     "output_type": "execute_result"
    }
   ],
   "source": [
    "df.variety.describe()['freq'] / df.variety.describe()['count']"
   ]
  },
  {
   "cell_type": "markdown",
   "metadata": {},
   "source": [
    "## Preprocesamiento de los datos"
   ]
  },
  {
   "cell_type": "markdown",
   "metadata": {},
   "source": [
    "Vamos a normalizar los datos para que todas las variables originales tengan la misma importancia en modelos basados en distancia (no es el caso con LDA, pero lo mostramos para ilustrar el proceso en Python)."
   ]
  },
  {
   "cell_type": "markdown",
   "metadata": {},
   "source": [
    "Existen diferentes clases en Scikit-learn que se encargan de los procesos de normalización: **MinMaxScaler** (limita los valores a un intervalo determinado), **MaxAbsScaler** (escala los datos para que el máximo valor absoluto sea 1, sin centrar los datos), **StandardScaler** (estandariza los datos), **RobustScaler** (proceso análogo a la estandarización, pero usando estadísticas robustas a los valores excepcionales - mediana y rango intercuartil)."
   ]
  },
  {
   "cell_type": "markdown",
   "metadata": {},
   "source": [
    "Utilizamos la clase **StandardScaler**, para reescalar las primeras 4 columnas (las numéricas) que recibe los siguientes parámetros:\n",
    "* *copy*: por defecto *True*, indica si se debe trabajar sobre los datos originales o sobre una copia que se debe crear. Dependiendo del tipo de los datos de entrada, puede que sea necesaria la copia (e.g. una matriz dispersa).\n",
    "* *with_mean*: por defecto *True*, indica si se debe centrar los datos o no (para que queden con promedio 0)\n",
    "* *with_std*: por defecto *True*, indica si se debe escalar los datos para que queden con una unidad de desviación estándar."
   ]
  },
  {
   "cell_type": "markdown",
   "metadata": {},
   "source": [
    "Todas las clases de reescalado de los valores son modelos que deben aprender parámetros de un conjunto de datos (método **fit**, aplicado por ejemplo a un training set), para poder aplicar el proceso a ese (método **fit_transform**) u otro conjunto de datos (método **transform** aplicado a un test set)."
   ]
  },
  {
   "cell_type": "code",
   "execution_count": 9,
   "metadata": {},
   "outputs": [],
   "source": [
    "from sklearn.preprocessing import StandardScaler\n",
    "scaler = StandardScaler()\n",
    "X_std = scaler.fit_transform(df.iloc[:,range(0,n)].values)"
   ]
  },
  {
   "cell_type": "markdown",
   "metadata": {},
   "source": [
    "Las clases de reescalado retornan objetos de tipo numpy array (no son dataframes de pandas)"
   ]
  },
  {
   "cell_type": "code",
   "execution_count": 10,
   "metadata": {},
   "outputs": [
    {
     "data": {
      "text/plain": [
       "numpy.ndarray"
      ]
     },
     "execution_count": 10,
     "metadata": {},
     "output_type": "execute_result"
    }
   ],
   "source": [
    "type(X_std)"
   ]
  },
  {
   "cell_type": "markdown",
   "metadata": {},
   "source": [
    "Por lo tanto, no podemos utilizar el método **head** para visualizar el contenido de sus primeros registros; utilizamos el operador de indexación"
   ]
  },
  {
   "cell_type": "code",
   "execution_count": 11,
   "metadata": {},
   "outputs": [
    {
     "data": {
      "text/plain": [
       "array([[-0.90068117,  1.01900435, -1.34022653, -1.3154443 ],\n",
       "       [-1.14301691, -0.13197948, -1.34022653, -1.3154443 ],\n",
       "       [-1.38535265,  0.32841405, -1.39706395, -1.3154443 ],\n",
       "       [-1.50652052,  0.09821729, -1.2833891 , -1.3154443 ],\n",
       "       [-1.02184904,  1.24920112, -1.34022653, -1.3154443 ]])"
      ]
     },
     "execution_count": 11,
     "metadata": {},
     "output_type": "execute_result"
    }
   ],
   "source": [
    "X_std[0:5,:]"
   ]
  },
  {
   "cell_type": "markdown",
   "metadata": {},
   "source": [
    "Comparemos con los datos originales del dataframe"
   ]
  },
  {
   "cell_type": "code",
   "execution_count": 12,
   "metadata": {},
   "outputs": [
    {
     "data": {
      "text/html": [
       "<div>\n",
       "<style scoped>\n",
       "    .dataframe tbody tr th:only-of-type {\n",
       "        vertical-align: middle;\n",
       "    }\n",
       "\n",
       "    .dataframe tbody tr th {\n",
       "        vertical-align: top;\n",
       "    }\n",
       "\n",
       "    .dataframe thead th {\n",
       "        text-align: right;\n",
       "    }\n",
       "</style>\n",
       "<table border=\"1\" class=\"dataframe\">\n",
       "  <thead>\n",
       "    <tr style=\"text-align: right;\">\n",
       "      <th></th>\n",
       "      <th>sepal.length</th>\n",
       "      <th>sepal.width</th>\n",
       "      <th>petal.length</th>\n",
       "      <th>petal.width</th>\n",
       "      <th>variety</th>\n",
       "    </tr>\n",
       "  </thead>\n",
       "  <tbody>\n",
       "    <tr>\n",
       "      <th>0</th>\n",
       "      <td>5.1</td>\n",
       "      <td>3.5</td>\n",
       "      <td>1.4</td>\n",
       "      <td>0.2</td>\n",
       "      <td>Setosa</td>\n",
       "    </tr>\n",
       "    <tr>\n",
       "      <th>1</th>\n",
       "      <td>4.9</td>\n",
       "      <td>3.0</td>\n",
       "      <td>1.4</td>\n",
       "      <td>0.2</td>\n",
       "      <td>Setosa</td>\n",
       "    </tr>\n",
       "    <tr>\n",
       "      <th>2</th>\n",
       "      <td>4.7</td>\n",
       "      <td>3.2</td>\n",
       "      <td>1.3</td>\n",
       "      <td>0.2</td>\n",
       "      <td>Setosa</td>\n",
       "    </tr>\n",
       "    <tr>\n",
       "      <th>3</th>\n",
       "      <td>4.6</td>\n",
       "      <td>3.1</td>\n",
       "      <td>1.5</td>\n",
       "      <td>0.2</td>\n",
       "      <td>Setosa</td>\n",
       "    </tr>\n",
       "    <tr>\n",
       "      <th>4</th>\n",
       "      <td>5.0</td>\n",
       "      <td>3.6</td>\n",
       "      <td>1.4</td>\n",
       "      <td>0.2</td>\n",
       "      <td>Setosa</td>\n",
       "    </tr>\n",
       "  </tbody>\n",
       "</table>\n",
       "</div>"
      ],
      "text/plain": [
       "   sepal.length  sepal.width  petal.length  petal.width variety\n",
       "0           5.1          3.5           1.4          0.2  Setosa\n",
       "1           4.9          3.0           1.4          0.2  Setosa\n",
       "2           4.7          3.2           1.3          0.2  Setosa\n",
       "3           4.6          3.1           1.5          0.2  Setosa\n",
       "4           5.0          3.6           1.4          0.2  Setosa"
      ]
     },
     "execution_count": 12,
     "metadata": {},
     "output_type": "execute_result"
    }
   ],
   "source": [
    "df.head(5)"
   ]
  },
  {
   "cell_type": "markdown",
   "metadata": {},
   "source": [
    "Podemos verificar que los datos tienen, en cada variable, un promedio de 0 y una desviación estándar de 1, utilizando los métodos **mean** y **std**. \n",
    "Cabe anotar que como lo que tenemos es una matriz de datos, hay que especificar el eje (*axis*) sobre el cual queremos calcular las estadísticas: 0 para las columnas, 1 para las filas. \n",
    "Por otra parte, recordemos que al realizar cálculos en un computador, puede que los valores que encontremos no sean exactamente 0 y 1, sino valores aproximados muy pequeños."
   ]
  },
  {
   "cell_type": "code",
   "execution_count": 13,
   "metadata": {},
   "outputs": [
    {
     "data": {
      "text/plain": [
       "array([-4.73695157e-16, -7.81597009e-16, -4.26325641e-16, -4.73695157e-16])"
      ]
     },
     "execution_count": 13,
     "metadata": {},
     "output_type": "execute_result"
    }
   ],
   "source": [
    "np.mean(X_std, axis=0)"
   ]
  },
  {
   "cell_type": "code",
   "execution_count": 14,
   "metadata": {},
   "outputs": [
    {
     "data": {
      "text/plain": [
       "array([1., 1., 1., 1.])"
      ]
     },
     "execution_count": 14,
     "metadata": {},
     "output_type": "execute_result"
    }
   ],
   "source": [
    "np.std(X_std, axis=0)"
   ]
  },
  {
   "cell_type": "markdown",
   "metadata": {},
   "source": [
    "## Construcción del modelo LDA \"a pie\""
   ]
  },
  {
   "cell_type": "markdown",
   "metadata": {},
   "source": [
    "Vamos a buscar reducir las dimensiones del dataset Iris, pasando de 4 variables originales a las 2 dimensiones mas discriminantes, tal y como las calcula el modelo LDA."
   ]
  },
  {
   "cell_type": "markdown",
   "metadata": {},
   "source": [
    "Los pasos para construir un modelo LDA sobre el dataset de Iris son los siguientes:\n",
    "* Estandarizar los datos\n",
    "* Calcular la matriz de dispersión intra clases **$S_{W}$**\n",
    "* Calcular la matriz de dispersión entre clases **$S_{B}$**\n",
    "* Calcular los vectores propios y valores propios correspondientes de la matriz **$S_{w}^{-1}S_{b}$**\n",
    "* Ordenar los vectores propios descendientemente, dados sus valores propios correspondientes.\n",
    "* Escoger los primeros 2 vectores propios como las columnas de una matriz de transformación **$W$**\n",
    "* Proyectar las instancias originales sobre el nuevo espacio dimensional utilizando la matriz **$W$**\n"
   ]
  },
  {
   "cell_type": "markdown",
   "metadata": {},
   "source": [
    "### 1. Estandarización de los datos"
   ]
  },
  {
   "cell_type": "markdown",
   "metadata": {},
   "source": [
    "A partir de los datos anteriores ya estandarizados, vamos a crear un nuevo dataframe estandarizado"
   ]
  },
  {
   "cell_type": "code",
   "execution_count": 19,
   "metadata": {},
   "outputs": [
    {
     "data": {
      "text/plain": [
       "Index(['sepal.length', 'sepal.width', 'petal.length', 'petal.width'], dtype='object')"
      ]
     },
     "execution_count": 19,
     "metadata": {},
     "output_type": "execute_result"
    }
   ],
   "source": [
    "df_std = pd.DataFrame(X_std)\n",
    "df_std.columns = df.columns[0:n]\n",
    "df_std.columns\n"
   ]
  },
  {
   "cell_type": "code",
   "execution_count": 20,
   "metadata": {},
   "outputs": [
    {
     "data": {
      "text/html": [
       "<div>\n",
       "<style scoped>\n",
       "    .dataframe tbody tr th:only-of-type {\n",
       "        vertical-align: middle;\n",
       "    }\n",
       "\n",
       "    .dataframe tbody tr th {\n",
       "        vertical-align: top;\n",
       "    }\n",
       "\n",
       "    .dataframe thead th {\n",
       "        text-align: right;\n",
       "    }\n",
       "</style>\n",
       "<table border=\"1\" class=\"dataframe\">\n",
       "  <thead>\n",
       "    <tr style=\"text-align: right;\">\n",
       "      <th></th>\n",
       "      <th>sepal.length</th>\n",
       "      <th>sepal.width</th>\n",
       "      <th>petal.length</th>\n",
       "      <th>petal.width</th>\n",
       "      <th>variety</th>\n",
       "    </tr>\n",
       "  </thead>\n",
       "  <tbody>\n",
       "    <tr>\n",
       "      <th>0</th>\n",
       "      <td>-0.900681</td>\n",
       "      <td>1.019004</td>\n",
       "      <td>-1.340227</td>\n",
       "      <td>-1.315444</td>\n",
       "      <td>Setosa</td>\n",
       "    </tr>\n",
       "    <tr>\n",
       "      <th>1</th>\n",
       "      <td>-1.143017</td>\n",
       "      <td>-0.131979</td>\n",
       "      <td>-1.340227</td>\n",
       "      <td>-1.315444</td>\n",
       "      <td>Setosa</td>\n",
       "    </tr>\n",
       "    <tr>\n",
       "      <th>2</th>\n",
       "      <td>-1.385353</td>\n",
       "      <td>0.328414</td>\n",
       "      <td>-1.397064</td>\n",
       "      <td>-1.315444</td>\n",
       "      <td>Setosa</td>\n",
       "    </tr>\n",
       "    <tr>\n",
       "      <th>3</th>\n",
       "      <td>-1.506521</td>\n",
       "      <td>0.098217</td>\n",
       "      <td>-1.283389</td>\n",
       "      <td>-1.315444</td>\n",
       "      <td>Setosa</td>\n",
       "    </tr>\n",
       "    <tr>\n",
       "      <th>4</th>\n",
       "      <td>-1.021849</td>\n",
       "      <td>1.249201</td>\n",
       "      <td>-1.340227</td>\n",
       "      <td>-1.315444</td>\n",
       "      <td>Setosa</td>\n",
       "    </tr>\n",
       "  </tbody>\n",
       "</table>\n",
       "</div>"
      ],
      "text/plain": [
       "   sepal.length  sepal.width  petal.length  petal.width variety\n",
       "0     -0.900681     1.019004     -1.340227    -1.315444  Setosa\n",
       "1     -1.143017    -0.131979     -1.340227    -1.315444  Setosa\n",
       "2     -1.385353     0.328414     -1.397064    -1.315444  Setosa\n",
       "3     -1.506521     0.098217     -1.283389    -1.315444  Setosa\n",
       "4     -1.021849     1.249201     -1.340227    -1.315444  Setosa"
      ]
     },
     "execution_count": 20,
     "metadata": {},
     "output_type": "execute_result"
    }
   ],
   "source": [
    "df_std = pd.concat([df_std, df.variety], axis=1)\n",
    "df_std.head()"
   ]
  },
  {
   "cell_type": "markdown",
   "metadata": {},
   "source": [
    "### 2. Cálculo de la matriz de dispersión intra-clases $S_W$"
   ]
  },
  {
   "cell_type": "markdown",
   "metadata": {},
   "source": [
    "Vamos a analizar dos tipos de dispersión de los datos (ver imagen siguiente, tomada de https://www.python-course.eu/linear_discriminant_analysis.php):\n",
    "* la dispersión intra-clase (within): considera la dispersión de las instancias de una misma clase con respecto a su centro propio\n",
    "* la dispersión inter-clase (between): considera la dispersión de los datos de las clases (resumidos por sus promedios correspondientes) y el promedio global del conjunto de datos.\n",
    "\n"
   ]
  },
  {
   "cell_type": "markdown",
   "metadata": {},
   "source": [
    "![title](WithinBetween.png)"
   ]
  },
  {
   "cell_type": "markdown",
   "metadata": {},
   "source": [
    "Se calcula la matriz de dispersión **$S_{k}$** interna de cada clase k. \n",
    "Vamos a considerar las diferencias entre cada instancia de la clase y su promedio:\n",
    "\n",
    "$S_{k} = \\sum_{x\\in k}{(x-\\mu_{k})(x-\\mu_{k})^T}$"
   ]
  },
  {
   "cell_type": "markdown",
   "metadata": {},
   "source": [
    "Para calcular la matriz de dispersión intra-clases global a todas las clases **$S_{W}$**, se deben de agregar las matrices **$S_{k}$**.\n",
    "Teniendo en cuenta que alguna de las clases puede estar más o menos representada en el conjunto de datos total, hay que re escalar las matrices con respecto a su cardinalidad **$n_{k}$**. \n",
    "Esto equivale entonces a que se pueden utilizar las matrices de covarianza de cada clase como una versión re-escalada de la matriz de dispersión intra-clase **$S_{k}$**:\n",
    "\n",
    "$Cov_{k} = \\frac{1}{n_k-1}\\sum_{x\\in k}{(x-\\mu_{k})(x-\\mu_{k})^T}$\n",
    "\n",
    "Y, se puede calcular **$S_{W}$** como la suma de las matrices de covarianza:"
   ]
  },
  {
   "cell_type": "code",
   "execution_count": 21,
   "metadata": {},
   "outputs": [
    {
     "name": "stdout",
     "output_type": "stream",
     "text": [
      "matriz de covarianza de {'Setosa'}:\n",
      " [[0.18241804 0.27673866 0.01126355 0.0164769 ]\n",
      " [0.27673866 0.76142015 0.01530537 0.02817403]\n",
      " [0.01126355 0.01530537 0.0097429  0.00454089]\n",
      " [0.0164769  0.02817403 0.00454089 0.01924361]]\n",
      "matriz de covarianza de {'Versicolor'}:\n",
      " [[0.39116717 0.23759815 0.12595945 0.08896617]\n",
      " [0.23759815 0.52179471 0.10814155 0.12485374]\n",
      " [0.12595945 0.10814155 0.07133456 0.05469228]\n",
      " [0.08896617 0.12485374 0.05469228 0.0677593 ]]\n",
      "matriz de covarianza de {'Virginica'}:\n",
      " [[0.59364215 0.26152874 0.20887174 0.07830273]\n",
      " [0.26152874 0.55112336 0.09339157 0.14432078]\n",
      " [0.20887174 0.09339157 0.09839686 0.0365287 ]\n",
      " [0.07830273 0.14432078 0.0365287  0.1307024 ]]\n",
      "\n",
      "matriz de dispersión intra-clases:\n",
      " [[1.16722735 0.77586555 0.34609473 0.1837458 ]\n",
      " [0.77586555 1.83433822 0.21683848 0.29734854]\n",
      " [0.34609473 0.21683848 0.17947433 0.09576187]\n",
      " [0.1837458  0.29734854 0.09576187 0.21770532]]\n"
     ]
    }
   ],
   "source": [
    "S_W = np.zeros((n,n))\n",
    "for clase in np.unique(df_std.variety):\n",
    "    S_k = np.cov(df_std.loc[df_std.variety==clase, df_std.columns[0:n]].T)\n",
    "    print(\"matriz de covarianza de %s:\\n\" %{clase}, S_k)\n",
    "    S_W+=S_k\n",
    "print(\"\\nmatriz de dispersión intra-clases:\\n\", S_W)"
   ]
  },
  {
   "cell_type": "markdown",
   "metadata": {},
   "source": [
    "### 3. Cálculo de la matriz de dispersión entre-clases $S_B$"
   ]
  },
  {
   "cell_type": "markdown",
   "metadata": {},
   "source": [
    "Se calcula la matriz de dispersión entre clases **$S_{B}$**, considerando la separación entre los promedios de las clases **$\\mu_{k}$** y el promedio global **$\\mu$** del conjunto de datos. \n",
    "De nuevo, cada clase debe aportar a esta dispersión con respecto a su cardinalidad\n",
    "\n",
    "$S_{B}= \\sum_{k=1}^{K}{n_k(\\mu_{k}-\\mu)(\\mu_{k}-\\mu)^T}$"
   ]
  },
  {
   "cell_type": "markdown",
   "metadata": {},
   "source": [
    "Recordemos que como los datos están estandarizados, los datos están centrados y los promedios de cada variable son nulos (0)."
   ]
  },
  {
   "cell_type": "code",
   "execution_count": 22,
   "metadata": {},
   "outputs": [
    {
     "data": {
      "text/plain": [
       "matrix([[-2.77555756e-16, -9.69594775e-16, -8.65233811e-16,\n",
       "         -4.66293670e-16]])"
      ]
     },
     "execution_count": 22,
     "metadata": {},
     "output_type": "execute_result"
    }
   ],
   "source": [
    "promedio_global = np.asmatrix(np.mean(df_std, axis=0))\n",
    "promedio_global"
   ]
  },
  {
   "cell_type": "markdown",
   "metadata": {},
   "source": [
    "Se debe entonces calcular los promedios de cada clase del dataset ('Setosa', 'Versicolor', 'Virginica') vamos a obtener un vector con los promedios y otro con las desviaciones estándar de las variables (sepal.length, sepal.width, petal.length, petal.width).\n",
    "\n",
    "$\\mu_{k} = \\frac{1}{n_{k}}\\sum_{x\\in k}x$\n",
    "\n",
    "En el siguiente ciclo vamos a calcular los promedios y de una vez acumularlos en la matriz de dispersión inter-clase **$S_B$**"
   ]
  },
  {
   "cell_type": "code",
   "execution_count": 23,
   "metadata": {},
   "outputs": [
    {
     "data": {
      "text/plain": [
       "array([[ 92.80585961, -55.65287963, 113.80442453, 113.68762457],\n",
       "       [-55.65287963,  60.11742706, -74.89110136, -69.48896849],\n",
       "       [113.80442453, -74.89110136, 141.20575786, 139.73748309],\n",
       "       [113.68762457, -69.48896849, 139.73748309, 139.33243952]])"
      ]
     },
     "execution_count": 23,
     "metadata": {},
     "output_type": "execute_result"
    }
   ],
   "source": [
    "S_B = np.zeros((n,n))\n",
    "for clase in np.unique(df_std.variety):\n",
    "    n_clase = df_std[df_std.variety==clase].shape[0]\n",
    "    promedio_clase = np.asmatrix(np.mean(df_std[df_std.variety==clase], axis=0))\n",
    "    S_B += n_clase * (((promedio_clase-promedio_global).reshape(n,1)).dot(((promedio_clase-promedio_global).reshape(1,n))))\n",
    "S_B"
   ]
  },
  {
   "cell_type": "markdown",
   "metadata": {},
   "source": [
    "Hay que aclarar que es necesario establecer que los vectores de promedios que se van a multiplicar son de hecho matrices, de tal manera que el aporte de cada clase se haga en forma matricial.\n",
    "Los cambios de la organización dimensional (por ejemplo para una transposición) la hacemos con utilizando función **reshape** de numpy."
   ]
  },
  {
   "cell_type": "markdown",
   "metadata": {},
   "source": [
    "A manera de ejemplo, veamos cual sería la forma de la resta entre los dos vectores del promedio de la última clase y del promedio global:"
   ]
  },
  {
   "cell_type": "code",
   "execution_count": 24,
   "metadata": {},
   "outputs": [
    {
     "data": {
      "text/plain": [
       "(1, 4)"
      ]
     },
     "execution_count": 24,
     "metadata": {},
     "output_type": "execute_result"
    }
   ],
   "source": [
    "promedio_clase.shape"
   ]
  },
  {
   "cell_type": "code",
   "execution_count": 25,
   "metadata": {},
   "outputs": [
    {
     "data": {
      "text/plain": [
       "(1, 4)"
      ]
     },
     "execution_count": 25,
     "metadata": {},
     "output_type": "execute_result"
    }
   ],
   "source": [
    "(promedio_clase-promedio_global).shape"
   ]
  },
  {
   "cell_type": "markdown",
   "metadata": {},
   "source": [
    "Tiene una fila y cuatro columnas, vamos a cambiarla a 4 filas por una columna:"
   ]
  },
  {
   "cell_type": "code",
   "execution_count": 26,
   "metadata": {},
   "outputs": [
    {
     "data": {
      "text/plain": [
       "(4, 1)"
      ]
     },
     "execution_count": 26,
     "metadata": {},
     "output_type": "execute_result"
    }
   ],
   "source": [
    "(promedio_clase-promedio_global).reshape(n,1).shape"
   ]
  },
  {
   "cell_type": "markdown",
   "metadata": {},
   "source": [
    "\n",
    "### 4. Calcular los vectores propios y valores propios correspondientes de la matriz  $𝑆_W^{-1}𝑆_B$ "
   ]
  },
  {
   "cell_type": "markdown",
   "metadata": {},
   "source": [
    "A continuación vamos a realizar una descomposición de una matriz cuadrada **$A$** en un conjunto de vectores propios y valores propios. Habrán tantos vectores y valores propios como dimensiones en la matriz original **$A$**.\n",
    "Para cada vector propio **$v$** y valor propio **$\\lambda$** encontramos que:\n",
    "\n",
    "$A\\cdot v = \\lambda \\cdot v$\n",
    "\n",
    "Además, si **$Q$** es la matriz que compila los vectores propios en el orden descendente de los valores propios, tenemos que:\n",
    "\n",
    "$A = Q\\cdot diag(\\lambda) \\cdot Q^{-1}$\n",
    "\n",
    "Esta descomposición permite analizar algunas propiedades de la matriz **$A$**, de la misma manera que la factorización de un número entero nos permite entender mejor su comportamiento; además, permite simplificar cálculos.\n",
    "\n",
    "Este tipo de descomposición, aplicada a la matriz de covarianza, se realiza en el método **PCA**, para encontrar ejes  ordenados por orden de varianza explicada descendente. \n",
    "En el caso de **LDA**, descomponemos la matriz resultante de la multiplicación de la inversa de la matriz de dispersion intra-clases **$S_W$** por la matriz de dispersión inter-clases **$S_B$**, lo que nos permite encontrar ejes ordenados descendentemente por \"poder de discrminancia\" (separabilidad ) de las clases consideradas para calcular las matrices de dispersión anteriores.\n",
    "\n",
    "Dada la complejidad del algoritmo iterativo que permite calcular la descomposición matricial, vamos a utilizar el método **eig** del subpaquete *numpy.linalg*, que recibe la matriz a descomponer y retorna una dupla con sus valores y vectores propios."
   ]
  },
  {
   "cell_type": "code",
   "execution_count": 27,
   "metadata": {},
   "outputs": [],
   "source": [
    "A= np.linalg.inv(S_W).dot(S_B)\n",
    "eigen_vals, eigen_vecs = np.linalg.eig(A)"
   ]
  },
  {
   "cell_type": "code",
   "execution_count": 28,
   "metadata": {},
   "outputs": [
    {
     "data": {
      "text/plain": [
       "array([[-0.15128777,  0.00693578,  0.56681016, -0.31040229],\n",
       "       [-0.14733266,  0.32786115, -0.18105679, -0.1012696 ],\n",
       "       [ 0.85598541, -0.57170517, -0.77246054, -0.55830099],\n",
       "       [ 0.47190474,  0.75207191,  0.22192206,  0.76268925]])"
      ]
     },
     "execution_count": 28,
     "metadata": {},
     "output_type": "execute_result"
    }
   ],
   "source": [
    "eigen_vecs"
   ]
  },
  {
   "cell_type": "code",
   "execution_count": 29,
   "metadata": {},
   "outputs": [
    {
     "data": {
      "text/plain": [
       "array([ 1.57740453e+03,  1.39841611e+01,  1.95162515e-13, -1.49996776e-13])"
      ]
     },
     "execution_count": 29,
     "metadata": {},
     "output_type": "execute_result"
    }
   ],
   "source": [
    "eigen_vals"
   ]
  },
  {
   "cell_type": "markdown",
   "metadata": {},
   "source": [
    "### 5. Ordenar los vectores propios descendientemente, dados sus valores propios correspondientes."
   ]
  },
  {
   "cell_type": "markdown",
   "metadata": {},
   "source": [
    "El signo de los valores propios no es importante, solo su magnitud.\n",
    "Vamos a crear duplas con los valores absolutos de los valores propios y los vectores propios asociados.\n",
    "Primero lo vamos a hacer de la manera usual con un ciclo, para luego introducir una manera más elegante de realizar estas tareas cíclicas en Python llamada *list comprehension*"
   ]
  },
  {
   "cell_type": "code",
   "execution_count": 30,
   "metadata": {},
   "outputs": [
    {
     "data": {
      "text/plain": [
       "[(1577.4045307156216,\n",
       "  array([-0.15128777, -0.14733266,  0.85598541,  0.47190474])),\n",
       " (13.984161088530575,\n",
       "  array([ 0.00693578,  0.32786115, -0.57170517,  0.75207191])),\n",
       " (1.951625148981075e-13,\n",
       "  array([ 0.56681016, -0.18105679, -0.77246054,  0.22192206])),\n",
       " (1.499967759016388e-13,\n",
       "  array([-0.31040229, -0.1012696 , -0.55830099,  0.76268925]))]"
      ]
     },
     "execution_count": 30,
     "metadata": {},
     "output_type": "execute_result"
    }
   ],
   "source": [
    "eigen_pairs = []\n",
    "for i in range(len(eigen_vals)):\n",
    "    eigen_pairs.append( (np.abs(eigen_vals[i]), eigen_vecs[:,i]) )\n",
    "eigen_pairs"
   ]
  },
  {
   "cell_type": "markdown",
   "metadata": {},
   "source": [
    "Este tipo de operaciones son muy comunes, por lo que Python creo las lists comprehensions. A continuación mostramos el código correspondiente"
   ]
  },
  {
   "cell_type": "code",
   "execution_count": 31,
   "metadata": {},
   "outputs": [
    {
     "data": {
      "text/plain": [
       "[(1577.4045307156216,\n",
       "  array([-0.15128777, -0.14733266,  0.85598541,  0.47190474])),\n",
       " (13.984161088530575,\n",
       "  array([ 0.00693578,  0.32786115, -0.57170517,  0.75207191])),\n",
       " (1.951625148981075e-13,\n",
       "  array([ 0.56681016, -0.18105679, -0.77246054,  0.22192206])),\n",
       " (1.499967759016388e-13,\n",
       "  array([-0.31040229, -0.1012696 , -0.55830099,  0.76268925]))]"
      ]
     },
     "execution_count": 31,
     "metadata": {},
     "output_type": "execute_result"
    }
   ],
   "source": [
    "eigen_pairs = [(np.abs(eigen_vals[i]), eigen_vecs[:,i]) for i in range(len(eigen_vals))]\n",
    "eigen_pairs"
   ]
  },
  {
   "cell_type": "markdown",
   "metadata": {},
   "source": [
    "Veamos finalmente los valores propios ordenados en orden descendente."
   ]
  },
  {
   "cell_type": "code",
   "execution_count": 32,
   "metadata": {},
   "outputs": [
    {
     "name": "stdout",
     "output_type": "stream",
     "text": [
      "Valores propios en orden descendente:\n",
      "\n",
      "1577.4045307156216\n",
      "13.984161088530575\n",
      "1.951625148981075e-13\n",
      "1.499967759016388e-13\n"
     ]
    }
   ],
   "source": [
    "print('Valores propios en orden descendente:\\n')\n",
    "for eigen_val in eigen_pairs:\n",
    "    print(eigen_val[0])"
   ]
  },
  {
   "cell_type": "markdown",
   "metadata": {},
   "source": [
    "Vemos que los dos últimos valores propios son casi nulos, y que el primer valor propio es muchísimo mayor al segundo. Esto nos indica que el primer vector propio es bastante discriminante, y que el segundo solo un poco, con los dos últimos ejes nada importantes en la separabilidad de las clases originales.\n",
    "\n",
    "De hecho, los dos últimos valores propios son en realidad 0, sino que por imprecisiones de cálculo de punto flotante no se logra llegar al valor nulo. La teoría de **LDA** indica que el **máximo número de ejes discriminantes es igual al número de clases -1**. En este caso, como tenemos 3 clases de flores, podemos a lo sumo tener 2 ejes discriminantes. En casos de multicolinearidad, este número de ejes puede ser aún menor."
   ]
  },
  {
   "cell_type": "markdown",
   "metadata": {},
   "source": [
    "Podemos confirmar que las ecuaciones presentadas anteriormente se cumplen:"
   ]
  },
  {
   "cell_type": "code",
   "execution_count": 33,
   "metadata": {},
   "outputs": [
    {
     "name": "stdout",
     "output_type": "stream",
     "text": [
      "[-238.64201064 -232.40319944 1350.23526254  744.38466734]\n",
      "[-238.64201064 -232.40319944 1350.23526254  744.38466734]\n"
     ]
    }
   ],
   "source": [
    "B = A.dot(eigen_vecs[:, 0])\n",
    "print(B)\n",
    "C = eigen_vecs[:, 0] * eigen_vals[0]\n",
    "print(C)"
   ]
  },
  {
   "cell_type": "markdown",
   "metadata": {},
   "source": [
    "Finalmente, vamos a visualizar el poder de \"separabilidad\" de los ejes encontrados visualmente, calculados con respecto a la \"separabilidad\" total."
   ]
  },
  {
   "cell_type": "code",
   "execution_count": 34,
   "metadata": {},
   "outputs": [
    {
     "data": {
      "text/plain": [
       "[0.9912126049653672,\n",
       " 0.008787395034632788,\n",
       " 1.2263661034115582e-16,\n",
       " -9.425527319261516e-17]"
      ]
     },
     "execution_count": 34,
     "metadata": {},
     "output_type": "execute_result"
    }
   ],
   "source": [
    "total_valores = sum(eigen_vals)\n",
    "separabilidad = [(i / total_valores) for i in sorted(eigen_vals, reverse=True)]\n",
    "separabilidad"
   ]
  },
  {
   "cell_type": "code",
   "execution_count": 35,
   "metadata": {},
   "outputs": [
    {
     "data": {
      "text/plain": [
       "array([0.9912126, 1.       , 1.       , 1.       ])"
      ]
     },
     "execution_count": 35,
     "metadata": {},
     "output_type": "execute_result"
    }
   ],
   "source": [
    "acum_separabilidad = np.cumsum(separabilidad)\n",
    "acum_separabilidad"
   ]
  },
  {
   "cell_type": "code",
   "execution_count": 36,
   "metadata": {},
   "outputs": [
    {
     "data": {
      "image/png": "[encoded data removed]",
      "text/plain": [
       "<Figure size 432x288 with 1 Axes>"
      ]
     },
     "metadata": {
      "needs_background": "light"
     },
     "output_type": "display_data"
    }
   ],
   "source": [
    "plt.bar(range(1, 5), separabilidad, width=0.8, align='center',label='\"Separabilidad\" individual')\n",
    "plt.step(range(1, 5), acum_separabilidad, where='mid', label='\"Separabilidad\" acumulada', color=\"red\")\n",
    "plt.ylabel('Ratio de \"separabilidad\"')\n",
    "plt.xlabel('Nuevos ejes encontrados por LDA')\n",
    "plt.ylim([-0.1, 1.1])\n",
    "plt.legend(loc='best')\n",
    "plt.xticks(np.arange(1, 5, step=1))\n",
    "plt.show()"
   ]
  },
  {
   "cell_type": "markdown",
   "metadata": {},
   "source": [
    "Podemos confirmar el enorme poder de separabilidad del primer eje (99.2% de la \"separabilidad\"), el poco poder del segundo, y la ausencia de poder discriminatorio del tercer y cuarto eje."
   ]
  },
  {
   "cell_type": "markdown",
   "metadata": {},
   "source": [
    "### 6. Escoger los primeros vectores propios como las columnas de una matriz de transformación  𝑊 "
   ]
  },
  {
   "cell_type": "markdown",
   "metadata": {},
   "source": [
    "Dado que solo los 2 primeros ejes son importantes en la separabilidad de las clases, vamos a representar el conjunto de datos en estas 2 primeras dimensiones. Necesitamos una manera de transformar los datos del sistema de coordenadas original al sistema reducido, para eso creamos una matriz de transformación **$W$**a partir de los 2 vectores propios más importantes."
   ]
  },
  {
   "cell_type": "code",
   "execution_count": 37,
   "metadata": {},
   "outputs": [
    {
     "data": {
      "text/plain": [
       "array([[-0.15128777,  0.00693578],\n",
       "       [-0.14733266,  0.32786115],\n",
       "       [ 0.85598541, -0.57170517],\n",
       "       [ 0.47190474,  0.75207191]])"
      ]
     },
     "execution_count": 37,
     "metadata": {},
     "output_type": "execute_result"
    }
   ],
   "source": [
    "# El primer eje indica el orden descendente de los pares, \n",
    "# el segundo identifica que se quiere el segundo elemento de la tupla (ya que el primero es el valor propio).\n",
    "# Luego indicamos que queremos todas las filas del vector, pero que lo queremos transformar para que quede \n",
    "# con m (=4) filas y 1 sola columna cada uno, para poder apilarlos horizontalmente\n",
    "# formando una matriz de 4 filas y dos columnas\n",
    "W = np.hstack((\n",
    "    eigen_pairs[0][1][:, ].reshape(n,1), \n",
    "    eigen_pairs[1][1][:, ].reshape(n,1)\n",
    "))\n",
    "W"
   ]
  },
  {
   "cell_type": "markdown",
   "metadata": {},
   "source": [
    "### 7. Proyectar las instancias originales sobre el nuevo espacio dimensional utilizando la matriz  𝑊"
   ]
  },
  {
   "cell_type": "markdown",
   "metadata": {},
   "source": [
    "Vamos a transformar el dataset original al nuevo sistema de representación, utilizando la matriz **$W$**:\n",
    "\n",
    "$X^{'}=X\\cdot W$"
   ]
  },
  {
   "cell_type": "code",
   "execution_count": 38,
   "metadata": {},
   "outputs": [
    {
     "name": "stdout",
     "output_type": "stream",
     "text": [
      "Tamaño del nuevo conjunto de datos:  (150, 3)\n"
     ]
    },
    {
     "data": {
      "text/html": [
       "<div>\n",
       "<style scoped>\n",
       "    .dataframe tbody tr th:only-of-type {\n",
       "        vertical-align: middle;\n",
       "    }\n",
       "\n",
       "    .dataframe tbody tr th {\n",
       "        vertical-align: top;\n",
       "    }\n",
       "\n",
       "    .dataframe thead th {\n",
       "        text-align: right;\n",
       "    }\n",
       "</style>\n",
       "<table border=\"1\" class=\"dataframe\">\n",
       "  <thead>\n",
       "    <tr style=\"text-align: right;\">\n",
       "      <th></th>\n",
       "      <th>LD1</th>\n",
       "      <th>LD2</th>\n",
       "      <th>clase</th>\n",
       "    </tr>\n",
       "  </thead>\n",
       "  <tbody>\n",
       "    <tr>\n",
       "      <th>0</th>\n",
       "      <td>-1.781849</td>\n",
       "      <td>0.104751</td>\n",
       "      <td>Setosa</td>\n",
       "    </tr>\n",
       "    <tr>\n",
       "      <th>1</th>\n",
       "      <td>-1.575609</td>\n",
       "      <td>-0.274293</td>\n",
       "      <td>Setosa</td>\n",
       "    </tr>\n",
       "    <tr>\n",
       "      <th>2</th>\n",
       "      <td>-1.655430</td>\n",
       "      <td>-0.092534</td>\n",
       "      <td>Setosa</td>\n",
       "    </tr>\n",
       "    <tr>\n",
       "      <th>3</th>\n",
       "      <td>-1.505879</td>\n",
       "      <td>-0.233836</td>\n",
       "      <td>Setosa</td>\n",
       "    </tr>\n",
       "    <tr>\n",
       "      <th>4</th>\n",
       "      <td>-1.797434</td>\n",
       "      <td>0.179383</td>\n",
       "      <td>Setosa</td>\n",
       "    </tr>\n",
       "  </tbody>\n",
       "</table>\n",
       "</div>"
      ],
      "text/plain": [
       "        LD1       LD2   clase\n",
       "0 -1.781849  0.104751  Setosa\n",
       "1 -1.575609 -0.274293  Setosa\n",
       "2 -1.655430 -0.092534  Setosa\n",
       "3 -1.505879 -0.233836  Setosa\n",
       "4 -1.797434  0.179383  Setosa"
      ]
     },
     "execution_count": 38,
     "metadata": {},
     "output_type": "execute_result"
    }
   ],
   "source": [
    "df_std_lda = pd.DataFrame(df_std.loc[:,df_std.columns[0:n]].dot(W))\n",
    "df_std_lda[\"clase\"] = df_std.loc[:,[\"variety\"]]\n",
    "print(\"Tamaño del nuevo conjunto de datos: \", df_std_lda.shape)\n",
    "df_std_lda.columns=[\"LD1\", \"LD2\", \"clase\"]\n",
    "df_std_lda.head()"
   ]
  },
  {
   "cell_type": "markdown",
   "metadata": {},
   "source": [
    "Visualicemos las instancias en el nuevo sistema de coordenadas:"
   ]
  },
  {
   "cell_type": "code",
   "execution_count": 39,
   "metadata": {},
   "outputs": [],
   "source": [
    "markers = ['s', 'x','o']"
   ]
  },
  {
   "cell_type": "code",
   "execution_count": 40,
   "metadata": {},
   "outputs": [
    {
     "data": {
      "image/png": "[encoded data removed]",
      "text/plain": [
       "<Figure size 360x360 with 1 Axes>"
      ]
     },
     "metadata": {
      "needs_background": "light"
     },
     "output_type": "display_data"
    }
   ],
   "source": [
    "sns.lmplot(x=\"LD1\", y=\"LD2\", data=df_std_lda, markers=markers, fit_reg=False, hue='clase', legend=False)\n",
    "plt.legend(loc='upper center')\n",
    "plt.show()"
   ]
  },
  {
   "cell_type": "code",
   "execution_count": 41,
   "metadata": {},
   "outputs": [
    {
     "data": {
      "image/png": "[encoded data removed]",
      "text/plain": [
       "<Figure size 445.75x360 with 6 Axes>"
      ]
     },
     "metadata": {
      "needs_background": "light"
     },
     "output_type": "display_data"
    }
   ],
   "source": [
    "_ = sns.pairplot(df_std_lda, hue=\"clase\")"
   ]
  },
  {
   "cell_type": "markdown",
   "metadata": {},
   "source": [
    "## Construcción del modelo LDA usando Scikit-learn"
   ]
  },
  {
   "cell_type": "markdown",
   "metadata": {},
   "source": [
    "Vamos a utilzar directamente las clases de **LDA** existentes en el paquete *sklearn*"
   ]
  },
  {
   "cell_type": "code",
   "execution_count": 43,
   "metadata": {},
   "outputs": [],
   "source": [
    "from sklearn.discriminant_analysis import LinearDiscriminantAnalysis"
   ]
  },
  {
   "cell_type": "markdown",
   "metadata": {},
   "source": [
    "Entre los método de esta clase, destacamos los siguientes:\n",
    "* **fit**(X,y): entrena el modelo; recibe una matriz con las variables predictivas numéricas *X* y el array con las clases correspondientes *y*, calculando las estructuras internas necesarias tanto para clasificar como la matriz de transformación utilizada para cambiar el sistema de representación de los datos.\n",
    "* **transform**(X): a llamar una vez el modelo ha sido entrenado para transformar la matriz *X* al nuevo sistema de representación.\n",
    "* **fit_transform**(X, y): entrena el modelo sobre los datos que recibe (X, y) y retorna la matriz *X* transformada al nuevo sistema de representación.\n",
    "* **predict**(X): analia los datos *X*, representandos en el sistema de coordenadas originales, y retorna la clase k correspondiente."
   ]
  },
  {
   "cell_type": "markdown",
   "metadata": {},
   "source": [
    "Primero vamos a repetir el proceso anterior, en el que solo cambiamos la representación de los datos."
   ]
  },
  {
   "cell_type": "code",
   "execution_count": 44,
   "metadata": {},
   "outputs": [],
   "source": [
    "lda = LinearDiscriminantAnalysis(n_components=2)"
   ]
  },
  {
   "cell_type": "code",
   "execution_count": 47,
   "metadata": {},
   "outputs": [],
   "source": [
    "df_std_lda = pd.DataFrame(lda.fit_transform(df_std.loc[:,df_std.columns[0:n]], df_std.loc[:,df_std.columns[n]]))\n",
    "df_std_lda.columns=[\"LD1\", \"LD2\"]\n",
    "df_std_lda[\"clase\"] = df_std.loc[:,[\"variety\"]]"
   ]
  },
  {
   "cell_type": "code",
   "execution_count": 50,
   "metadata": {},
   "outputs": [
    {
     "data": {
      "image/png": "[encoded data removed]",
      "text/plain": [
       "<Figure size 360x360 with 1 Axes>"
      ]
     },
     "metadata": {
      "needs_background": "light"
     },
     "output_type": "display_data"
    }
   ],
   "source": [
    "sns.lmplot(x=\"petal.length\", y=\"petal.width\", data=df_std, markers=markers, fit_reg=False, hue='variety', legend=False)\n",
    "plt.legend(loc='upper center')\n",
    "plt.show()"
   ]
  },
  {
   "cell_type": "code",
   "execution_count": 51,
   "metadata": {},
   "outputs": [
    {
     "data": {
      "image/png": "[encoded data removed]",
      "text/plain": [
       "<Figure size 360x360 with 1 Axes>"
      ]
     },
     "metadata": {
      "needs_background": "light"
     },
     "output_type": "display_data"
    }
   ],
   "source": [
    "sns.lmplot(x=\"LD1\", y=\"LD2\", data=df_std_lda, markers=markers, fit_reg=False, hue='clase', legend=False)\n",
    "plt.legend(loc='upper center')\n",
    "plt.show()"
   ]
  },
  {
   "cell_type": "markdown",
   "metadata": {},
   "source": [
    "Al igual que con PCA, el signo de los ejes no tiene interpretación, por lo que podemos encontrar de manera aleatoria datos simétricos con respecto a alguno de los ejes nuevos. Esto no cambia en absoluto el resultado.\n",
    "\n",
    "Como ya lo hablamos previamente, LDA es insensible a cuestiones de escala."
   ]
  },
  {
   "cell_type": "code",
   "execution_count": 52,
   "metadata": {},
   "outputs": [
    {
     "data": {
      "image/png": "[encoded data removed]",
      "text/plain": [
       "<Figure size 360x360 with 1 Axes>"
      ]
     },
     "metadata": {
      "needs_background": "light"
     },
     "output_type": "display_data"
    }
   ],
   "source": [
    "df_std_lda[\"LD1\"] = -df_std_lda[\"LD1\"]\n",
    "sns.lmplot(x=\"LD1\", y=\"LD2\", data=df_std_lda, markers=markers, fit_reg=False, hue='clase', legend=False)\n",
    "plt.legend(loc='upper center')\n",
    "plt.show()"
   ]
  },
  {
   "cell_type": "markdown",
   "metadata": {},
   "source": [
    "Si queremos utilizar el modelo entrenado para clasificar, lo único que hay que hacer es llamar a su método **predict**:"
   ]
  },
  {
   "cell_type": "code",
   "execution_count": 53,
   "metadata": {},
   "outputs": [
    {
     "data": {
      "text/plain": [
       "array(['Virginica', 'Versicolor', 'Setosa'], dtype='<U10')"
      ]
     },
     "execution_count": 53,
     "metadata": {},
     "output_type": "execute_result"
    }
   ],
   "source": [
    "df_test = [[4.6, 2.9, 5.6, 1.8], [5.1, 3.5, 1.1, 0.2], [3.1, 4.5, 0.1, 0.2]]\n",
    "y_test_estimada = lda.predict(df_test)\n",
    "y_test_estimada\n"
   ]
  },
  {
   "cell_type": "markdown",
   "metadata": {},
   "source": [
    "## Pipelines en scikit-learn"
   ]
  },
  {
   "cell_type": "markdown",
   "metadata": {},
   "source": [
    "De la misma manera que en el **lenguaje R** el paquete **caret** permite encadenar el proceso de pretratamiento, entrenamiento de modelos y evaluación, en **scikit-learn** hay una clase llamada **Pipeline** que facilita el encadenamiento secuencial de tareas de transformación y estimación. Además, se puede utilizar para buscar los mejores parámetros para afinar el desempeño del modelo.\n",
    "\n",
    "Para poder hacer parte de un Pipeline, una tarea intermediaria del \"tubo\" debe implementar los métodos **fit** y **transform**; la tarea final debe implementar el método **fit**."
   ]
  },
  {
   "cell_type": "markdown",
   "metadata": {},
   "source": [
    "A manera de ilustración, vamos a crear un proceso que primero escale los datos, luego cambie la representación de los datos usando **LDA**, y luego aplique un modelo de **KNN** para clasificar las instancias, utilizando un protocolo de evaluación **K-Fold CV**"
   ]
  },
  {
   "cell_type": "code",
   "execution_count": 54,
   "metadata": {},
   "outputs": [],
   "source": [
    "from sklearn.model_selection import train_test_split\n",
    "from sklearn.model_selection import GridSearchCV\n",
    "from sklearn.pipeline import Pipeline\n",
    "from sklearn.neighbors import KNeighborsClassifier\n",
    "from sklearn.svm import SVC"
   ]
  },
  {
   "cell_type": "markdown",
   "metadata": {},
   "source": [
    "Vamos a dividir el conjunto de datos en training set y test set con el método **train_test_split**"
   ]
  },
  {
   "cell_type": "code",
   "execution_count": 55,
   "metadata": {},
   "outputs": [],
   "source": [
    "X_train, X_test, y_train, y_test = train_test_split(\n",
    "    df.iloc[:,range(0,n)],  # matriz con las variables predictivas\n",
    "    df.iloc[:,n], # array con los valores de la variable objetivo\n",
    "    test_size=0.3,  # proporción a dejar en el test set\n",
    "    random_state=30, # para controlar la semilla aleatoria\n",
    "    stratify=df.iloc[:,n]) # indica la variable de estratificación estratificación de la muestra"
   ]
  },
  {
   "cell_type": "markdown",
   "metadata": {},
   "source": [
    "Tenemos primero que especificar los pasos a ejecutar secuencialmente, dándoles un nombre e indicando la clase responsable:"
   ]
  },
  {
   "cell_type": "code",
   "execution_count": 56,
   "metadata": {},
   "outputs": [],
   "source": [
    "steps = [('STD', StandardScaler()), ('LDA', LinearDiscriminantAnalysis()), (\"KNN\", KNeighborsClassifier())]\n",
    "pipeline = Pipeline(steps)"
   ]
  },
  {
   "cell_type": "markdown",
   "metadata": {},
   "source": [
    "La estimación de los parámetrors no se limita al modelo final. Cualquier parámetro de los pasos intermedios es eligible a ser afinado. Veamos todos los parámetros que podríamos estimar:"
   ]
  },
  {
   "cell_type": "code",
   "execution_count": 57,
   "metadata": {},
   "outputs": [
    {
     "data": {
      "text/plain": [
       "dict_keys(['memory', 'steps', 'verbose', 'STD', 'LDA', 'KNN', 'STD__copy', 'STD__with_mean', 'STD__with_std', 'LDA__n_components', 'LDA__priors', 'LDA__shrinkage', 'LDA__solver', 'LDA__store_covariance', 'LDA__tol', 'KNN__algorithm', 'KNN__leaf_size', 'KNN__metric', 'KNN__metric_params', 'KNN__n_jobs', 'KNN__n_neighbors', 'KNN__p', 'KNN__weights'])"
      ]
     },
     "execution_count": 57,
     "metadata": {},
     "output_type": "execute_result"
    }
   ],
   "source": [
    "pipeline.get_params().keys()"
   ]
  },
  {
   "cell_type": "markdown",
   "metadata": {},
   "source": [
    "Vamos a controlar el parámetro **n_neighbors** del modelo KNN buscando evitar el overfiting.\n",
    "Para identificar los parámetros a afinar, usamos una concatenación del nombre del paso (en este caso \"KNN\") y el nombre del parámetro, usando 2 underscores intermedios, es decir: \"KNN__n_neighbors\".\n",
    "\n",
    "Vamos a estimar sus valores ideales a partir de una búsqueda en grilla con las combinaciones de valores a testear que especificamos a continuación, utilizando la clase **GridSearchCV** (en este caso al solo haber una variable, no hay combinaciones), que implementa esta búsqueda siguiendo un protocolo de evaluación de K-Fold CV:"
   ]
  },
  {
   "cell_type": "code",
   "execution_count": 58,
   "metadata": {},
   "outputs": [],
   "source": [
    "parametros = {'KNN__n_neighbors':[1, 2, 3, 4, 5, 7, 9]}\n",
    "grid = GridSearchCV(pipeline, param_grid=parametros, cv=5)"
   ]
  },
  {
   "cell_type": "markdown",
   "metadata": {},
   "source": [
    "Ahora, lo único que tenemos que hacer es buscar el ajuste del Pipeline, llamando el método **fit** de la clase **GridSearchCV**:"
   ]
  },
  {
   "cell_type": "code",
   "execution_count": 59,
   "metadata": {},
   "outputs": [
    {
     "data": {
      "text/plain": [
       "GridSearchCV(cv=5, error_score=nan,\n",
       "             estimator=Pipeline(memory=None,\n",
       "                                steps=[('STD',\n",
       "                                        StandardScaler(copy=True,\n",
       "                                                       with_mean=True,\n",
       "                                                       with_std=True)),\n",
       "                                       ('LDA',\n",
       "                                        LinearDiscriminantAnalysis(n_components=None,\n",
       "                                                                   priors=None,\n",
       "                                                                   shrinkage=None,\n",
       "                                                                   solver='svd',\n",
       "                                                                   store_covariance=False,\n",
       "                                                                   tol=0.0001)),\n",
       "                                       ('KNN',\n",
       "                                        KNeighborsClassifier(algorithm='auto',\n",
       "                                                             leaf_size=30,\n",
       "                                                             metric='minkowski',\n",
       "                                                             metric_params=None,\n",
       "                                                             n_jobs=None,\n",
       "                                                             n_neighbors=5, p=2,\n",
       "                                                             weights='uniform'))],\n",
       "                                verbose=False),\n",
       "             iid='deprecated', n_jobs=None,\n",
       "             param_grid={'KNN__n_neighbors': [1, 2, 3, 4, 5, 7, 9]},\n",
       "             pre_dispatch='2*n_jobs', refit=True, return_train_score=False,\n",
       "             scoring=None, verbose=0)"
      ]
     },
     "execution_count": 59,
     "metadata": {},
     "output_type": "execute_result"
    }
   ],
   "source": [
    "grid.fit(X_train, y_train)"
   ]
  },
  {
   "cell_type": "code",
   "execution_count": 60,
   "metadata": {},
   "outputs": [
    {
     "name": "stdout",
     "output_type": "stream",
     "text": [
      "score = 0.8889\n",
      "{'KNN__n_neighbors': 3}\n"
     ]
    }
   ],
   "source": [
    "print(\"score = %3.4f\" %(grid.score(X_test,y_test)))\n",
    "print(grid.best_params_)"
   ]
  },
  {
   "cell_type": "markdown",
   "metadata": {},
   "source": [
    "A manera de comparación, vamos a crear un nuevo pipeline, utilizando esta vez un **SVM** como paso final. Los parámetros del modelo son C (que controla la penalidad de los elementos que no respetan el margen, ya lo veremos en la siguiente clase)  y gamma (que, en el caso por defecto de un kernel \"rbf\", con controla la amplitud de las distribuciones gaussianas)"
   ]
  },
  {
   "cell_type": "code",
   "execution_count": 61,
   "metadata": {},
   "outputs": [
    {
     "name": "stdout",
     "output_type": "stream",
     "text": [
      "score = 0.9778\n",
      "{'SVM__C': 0.001, 'SVM__gamma': 0.1}\n"
     ]
    }
   ],
   "source": [
    "steps = [('STD', StandardScaler()), ('LDA', LinearDiscriminantAnalysis()), (\"SVM\", SVC())]\n",
    "pipeline = Pipeline(steps)\n",
    "parametros = {'SVM__C':[0.001,0.1,10,100,10e5], 'SVM__gamma':[0.1,0.01]}\n",
    "grid = GridSearchCV(pipeline, param_grid=parametros, cv=5)\n",
    "grid.fit(X_train, y_train)\n",
    "print(\"score = %3.4f\" %(grid.score(X_test,y_test)))\n",
    "print(grid.best_params_)"
   ]
  },
  {
   "cell_type": "markdown",
   "metadata": {},
   "source": [
    "Veamos la diferencia de resultados con diferentes etapas de preprocesamiento con el clasificador SVM:"
   ]
  },
  {
   "cell_type": "code",
   "execution_count": null,
   "metadata": {},
   "outputs": [],
   "source": [
    "steps = [(\"SVM\", SVC())]\n",
    "pipeline = Pipeline(steps)\n",
    "parametros = {'SVM__C':[0.001,0.1,10,100,10e5], 'SVM__gamma':[0.1,0.01]}\n",
    "grid = GridSearchCV(pipeline, param_grid=parametros, cv=5)\n",
    "grid.fit(X_train, y_train)\n",
    "print(\"score = %3.4f\" %(grid.score(X_test,y_test)))\n",
    "print(grid.best_params_)"
   ]
  },
  {
   "cell_type": "code",
   "execution_count": null,
   "metadata": {},
   "outputs": [],
   "source": [
    "steps = [('STD', StandardScaler()), (\"SVM\", SVC())]\n",
    "pipeline = Pipeline(steps)\n",
    "parametros = {'SVM__C':[0.001,0.1,10,100,10e5], 'SVM__gamma':[0.1,0.01]}\n",
    "grid = GridSearchCV(pipeline, param_grid=parametros, cv=5)\n",
    "grid.fit(X_train, y_train)\n",
    "print(\"score = %3.4f\" %(grid.score(X_test,y_test)))\n",
    "print(grid.best_params_)"
   ]
  },
  {
   "cell_type": "code",
   "execution_count": null,
   "metadata": {},
   "outputs": [],
   "source": [
    "steps = [('LDA', LinearDiscriminantAnalysis()), (\"SVM\", SVC())]\n",
    "pipeline = Pipeline(steps)\n",
    "parametros = {'SVM__C':[0.001,0.1,10,100,10e5], 'SVM__gamma':[0.1,0.01]}\n",
    "grid = GridSearchCV(pipeline, param_grid=parametros, cv=5)\n",
    "grid.fit(X_train, y_train)\n",
    "print(\"score = %3.4f\" %(grid.score(X_test,y_test)))\n",
    "print(grid.best_params_)"
   ]
  },
  {
   "cell_type": "code",
   "execution_count": null,
   "metadata": {},
   "outputs": [],
   "source": []
  }
 ],
 "metadata": {
  "kernelspec": {
   "display_name": "Python 3 (ipykernel)",
   "language": "python",
   "name": "python3"
  },
  "language_info": {
   "codemirror_mode": {
    "name": "ipython",
    "version": 3
   },
   "file_extension": ".py",
   "mimetype": "text/x-python",
   "name": "python",
   "nbconvert_exporter": "python",
   "pygments_lexer": "ipython3",
   "version": "3.9.12"
  }
 },
 "nbformat": 4,
 "nbformat_minor": 2
}
